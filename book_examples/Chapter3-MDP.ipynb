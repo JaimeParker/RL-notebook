{
 "cells": [
  {
   "cell_type": "markdown",
   "metadata": {},
   "source": [
    "# 第3章 马尔科夫决策过程"
   ]
  },
  {
   "cell_type": "markdown",
   "metadata": {},
   "source": [
    "## 3.1 简介\n",
    "\n",
    "马尔科夫决策过程，MDP；其与多臂老虎机的不同即为，MDP包含了状态信息及状态之间的转移机制。"
   ]
  },
  {
   "cell_type": "markdown",
   "metadata": {},
   "source": [
    "## 3.2 马尔科夫过程\n",
    "\n",
    "### 3.2.1 随机过程\n",
    "\n",
    "与概率论不同，概率论研究静态的随机现象，随机过程研究动态的随机现象；\n",
    "随机现象在某时刻$t$的取值是一个向量随机变量，用$S_t$表示；\n",
    "某时刻的状态$S_t$常取决于之前的状态，已知历史信息的下一个时刻$S_t$的概率表示为$P(S_{t+1}|S_1,...,S_t)$\n",
    "\n",
    "### 3.2.2 马尔科夫性质\n",
    "\n",
    "当且仅当某时刻的状态只取决于上一时刻的状态时，一个随机过程被称为具有**马尔可夫性质**（Markov property）；\n",
    "\n",
    "这种简单的链式关系简化计算，仅利用当前信息就可以决定未来；\n",
    "\n",
    "### 3.2.3 马尔科夫过程\n",
    "\n",
    "状态转移矩阵定义了状态对之间的转移概率\n",
    "\n",
    "给定一个马尔科夫过程，则可以根据状态转移矩阵生成一个状态序列（episode），这个步骤也叫做采样（sampling）"
   ]
  },
  {
   "cell_type": "markdown",
   "source": [
    "## 3.3 马尔科夫奖励过程`MRP`\n",
    "\n",
    "Markov reward process，由四个量构成$(S,P,r,\\gamma)$\n",
    "* $S$， 有限状态的集合\n",
    "* $P$， 状态转移矩阵\n",
    "* $r$， 奖励函数\n",
    "* $\\gamma$， 折扣因子\n",
    "\n",
    "### 3.3.1 return 回报\n",
    "指从t时刻开始到终止时，衰减奖励之和\n",
    "$$\n",
    "G_t = R_t + \\gamma R_{t+1} + ... = \\sum_{k=0}^{\\infty}\\gamma^k R_{t+k}\n",
    "$$\n",
    "\n",
    "### 3.3.2 价值函数\n",
    "一个状态的价值函数为该状态回报的期望，所有状态的价值构成价值函数\n",
    "\n",
    "$$\n",
    "V(s)=E[G_t|S_t=s]\\\\\n",
    "V(s)=E[R_t+\\gamma V(S_{t+1}) | S_t = s]\n",
    "$$\n",
    "\n",
    "将第二个等式拆开，可以得到当前奖励的期望和之后的一部分，总结为\n",
    "\n",
    "$$\n",
    "V(s)=r(s)+\\gamma \\sum_{s'\\in S}p(s'|s)V(s')\n",
    "$$\n",
    "\n",
    "即贝尔曼方程，对马尔科夫奖励过程中的每一个状态都成立；\n",
    "若一个马尔科夫奖励过程系统有n个状态，则可以将该方程写成矩阵的形式并得到解析解；\n",
    "但规模较大时，不会使用矩阵求解析解的方式；"
   ],
   "metadata": {
    "collapsed": false
   }
  },
  {
   "cell_type": "markdown",
   "source": [
    "## 3.4 马尔科夫决策过程\n",
    "\n",
    "定义来自外界的刺激，即智能体agent的动作，改变了这个随机过程，则有了马尔科夫决策过程；\n",
    "在MRP的基础上加上智能体的动作，则变成MDP，Markov decision process\n",
    "\n",
    "* $S$是状态的集合\n",
    "* $A$是动作的集合\n",
    "* $\\gamma$是折扣因子\n",
    "* $r(s,a)$是奖励函数，同时取决于状态和动作；若只取决于状态，则退化为MRP的奖励函数\n",
    "* $P(s'|s,a)$是状态转移函数，表示在$s'$执行动作$a$后转移到状态$s$的概率\n",
    "\n",
    "### 3.4.1 策略\n",
    "**策略**用$\\pi$表示，"
   ],
   "metadata": {
    "collapsed": false
   }
  },
  {
   "cell_type": "code",
   "execution_count": 3,
   "metadata": {},
   "outputs": [
    {
     "name": "stdout",
     "output_type": "stream",
     "text": [
      "[[[], [], [], []], [[], [], [], []], [[], [], [], []], [[], [], [], []], [[], [], [], []], [[], [], [], []], [[], [], [], []], [[], [], [], []], [[], [], [], []], [[], [], [], []], [[], [], [], []], [[], [], [], []]]\n",
      "<class 'list'>\n"
     ]
    }
   ],
   "source": [
    "P = [[[] for j in range(4)] for i in range(3 * 4)]\n",
    "print(P)\n",
    "print(type(P))"
   ]
  },
  {
   "cell_type": "code",
   "execution_count": null,
   "metadata": {},
   "outputs": [],
   "source": []
  }
 ],
 "metadata": {
  "kernelspec": {
   "display_name": "Python 3.8.10 64-bit",
   "language": "python",
   "name": "python3"
  },
  "language_info": {
   "codemirror_mode": {
    "name": "ipython",
    "version": 3
   },
   "file_extension": ".py",
   "mimetype": "text/x-python",
   "name": "python",
   "nbconvert_exporter": "python",
   "pygments_lexer": "ipython3",
   "version": "3.8.10"
  },
  "orig_nbformat": 4,
  "vscode": {
   "interpreter": {
    "hash": "916dbcbb3f70747c44a77c7bcd40155683ae19c65e1c03b4aa3499c5328201f1"
   }
  }
 },
 "nbformat": 4,
 "nbformat_minor": 2
}
