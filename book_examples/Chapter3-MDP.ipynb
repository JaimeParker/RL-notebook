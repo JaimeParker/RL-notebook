{
 "cells": [
  {
   "cell_type": "markdown",
   "metadata": {},
   "source": [
    "# 第3章 马尔科夫决策过程"
   ]
  },
  {
   "cell_type": "markdown",
   "metadata": {},
   "source": [
    "## 3.1 简介\n",
    "\n",
    "马尔科夫决策过程，MDP；其与多臂老虎机的不同即为，MDP包含了状态信息及状态之间的转移机制。"
   ]
  },
  {
   "cell_type": "markdown",
   "metadata": {},
   "source": [
    "## 3.2 马尔科夫过程\n",
    "\n",
    "### 3.2.1 随机过程\n",
    "\n",
    "与概率论不同，概率论研究静态的随机现象，随机过程研究动态的随机现象；\n",
    "随机现象在某时刻$t$的取值是一个向量随机变量，用$S_t$表示；\n",
    "某时刻的状态$S_t$常取决于之前的状态，已知历史信息的下一个时刻$S_t$的概率表示为$P(S_{t+1}|S_1,...,S_t)$\n",
    "\n",
    "### 3.2.2 马尔科夫性质\n",
    "\n",
    "当且仅当某时刻的状态只取决于上一时刻的状态时，一个随机过程被称为具有**马尔可夫性质**（Markov property）；\n",
    "\n",
    "这种简单的链式关系简化计算，仅利用当前信息就可以决定未来；\n",
    "\n",
    "### 3.2.3 马尔科夫过程\n",
    "\n"
   ]
  }
 ],
 "metadata": {
  "kernelspec": {
   "display_name": "Python 3.8.10 64-bit",
   "language": "python",
   "name": "python3"
  },
  "language_info": {
   "name": "python",
   "version": "3.8.10"
  },
  "orig_nbformat": 4,
  "vscode": {
   "interpreter": {
    "hash": "916dbcbb3f70747c44a77c7bcd40155683ae19c65e1c03b4aa3499c5328201f1"
   }
  }
 },
 "nbformat": 4,
 "nbformat_minor": 2
}
