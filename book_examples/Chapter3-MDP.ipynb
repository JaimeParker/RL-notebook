{
 "cells": [
  {
   "cell_type": "markdown",
   "metadata": {},
   "source": [
    "# 第3章 马尔科夫决策过程"
   ]
  },
  {
   "cell_type": "markdown",
   "metadata": {},
   "source": [
    "## 3.1 简介\n",
    "\n",
    "马尔科夫决策过程，MDP；其与多臂老虎机的不同即为，MDP包含了状态信息及状态之间的转移机制。"
   ]
  },
  {
   "cell_type": "markdown",
   "metadata": {},
   "source": [
    "## 3.2 马尔科夫过程\n",
    "\n",
    "### 3.2.1 随机过程\n",
    "\n",
    "与概率论不同，概率论研究静态的随机现象，随机过程研究动态的随机现象；\n",
    "随机现象在某时刻$t$的取值是一个向量随机变量，用$S_t$表示；\n",
    "某时刻的状态$S_t$常取决于之前的状态，已知历史信息的下一个时刻$S_t$的概率表示为$P(S_{t+1}|S_1,...,S_t)$\n",
    "\n",
    "### 3.2.2 马尔科夫性质\n",
    "\n",
    "当且仅当某时刻的状态只取决于上一时刻的状态时，一个随机过程被称为具有**马尔可夫性质**（Markov property）；\n",
    "\n",
    "这种简单的链式关系简化计算，仅利用当前信息就可以决定未来；\n",
    "\n",
    "### 3.2.3 马尔科夫过程\n",
    "\n",
    "状态转移矩阵定义了状态对之间的转移概率\n",
    "\n",
    "给定一个马尔科夫过程，则可以根据状态转移矩阵生成一个状态序列（episode），这个步骤也叫做采样（sampling）"
   ]
  },
  {
   "cell_type": "markdown",
   "source": [
    "## 3.3 马尔科夫奖励过程`MRP`\n",
    "\n",
    "Markov reward process，由四个量构成$(S,P,r,\\gamma)$\n",
    "* $S$， 有限状态的集合\n",
    "* $P$， 状态转移矩阵\n",
    "* $r$， 奖励函数\n",
    "* $\\gamma$， 折扣因子\n",
    "\n",
    "### 3.3.1 return 回报\n",
    "指从t时刻开始到终止时，衰减奖励之和\n",
    "$$\n",
    "G_t = R_t + \\gamma R_{t+1} + ... = \\sum_{k=0}^{\\infty}\\gamma^k R_{t+k}\n",
    "$$\n",
    "\n",
    "### 3.3.2 价值函数\n",
    "一个状态的价值函数为该状态回报的期望，所有状态的价值构成价值函数\n",
    "\n",
    "$$\n",
    "V(s)=E[G_t|S_t=s]\\\\\n",
    "V(s)=E[R_t+\\gamma V(S_{t+1}) | S_t = s]\n",
    "$$\n",
    "\n",
    "将第二个等式拆开，可以得到当前奖励的期望和之后的一部分，总结为\n",
    "\n",
    "$$\n",
    "V(s)=r(s)+\\gamma \\sum_{s'\\in S}p(s'|s)V(s')\n",
    "$$\n",
    "\n",
    "即贝尔曼方程，对马尔科夫奖励过程中的每一个状态都成立；\n",
    "若一个马尔科夫奖励过程系统有n个状态，则可以将该方程写成矩阵的形式并得到解析解；\n",
    "但规模较大时，不会使用矩阵求解析解的方式；"
   ],
   "metadata": {
    "collapsed": false
   }
  },
  {
   "cell_type": "markdown",
   "source": [
    "## 3.4 马尔科夫决策过程\n",
    "\n",
    "定义来自外界的刺激，即智能体agent的动作，改变了这个随机过程，则有了马尔科夫决策过程；\n",
    "在MRP的基础上加上智能体的动作，则变成MDP，Markov decision process\n",
    "\n",
    "* $S$是状态的集合\n",
    "* $A$是动作的集合\n",
    "* $\\gamma$是折扣因子\n",
    "* $r(s,a)$是奖励函数，同时取决于状态和动作；若只取决于状态，则退化为MRP的奖励函数\n",
    "* $P(s'|s,a)$是状态转移函数，表示在$s'$执行动作$a$后转移到状态$s$的概率\n",
    "\n",
    "### 3.4.1 策略\n",
    "**策略**用$\\pi$表示，$\\pi(a|s)=P(A_t=a|S_t=s)$\n",
    "* 确定性策略，每个状态只输出一个确定性动作\n",
    "* 随机性策略，每个状态输出关于动作的概率分布\n",
    "\n",
    "### 3.4.2 状态价值函数\n",
    "state value function，定义从状态$s$出发以策略$\\pi$能获得的期望回报\n",
    "$$\n",
    "V^{\\pi}(s)=E_{\\pi}[G_t|S_t=s]\n",
    "$$\n",
    "\n",
    "### 3.4.3 动作价值函数\n",
    "action value function，定义在遵循策略$\\pi$时，对当前状态$s$执行动作$a$得到的期望回报\n",
    "$$\n",
    "Q^{\\pi}(s,a)=E_{\\pi}[G_t|S_t=s,A_t=a]\n",
    "$$\n",
    "与状态价值函数的关系为，\n",
    "在使用策略$\\pi$中，状态$s$的价值等于在该状态下基于策略$\\pi$采取所有动作的概率与相应的价值相乘再求和的结果\n",
    "$$\n",
    "V^{\\pi}(s)=\\sum_{a\\in A}\\pi(a|s)Q^{\\pi}(s,a)\n",
    "$$\n",
    "\n",
    "### 3.4.4 贝尔曼期望方程"
   ],
   "metadata": {
    "collapsed": false
   }
  },
  {
   "cell_type": "markdown",
   "source": [
    "## 3.5 蒙特卡洛方法\n",
    "Monte-Carlo Method， 统计模拟方法，一种基于概率统计的数值计算方法\n",
    "\n",
    "用蒙特卡洛方法估计一个策略在一个马尔科夫决策过程中的价值状态函数：用策略在MDP上采样很多条序列，\n",
    "计算从这个状态出发的回报再求其期望\n",
    "$$\n",
    "V^{\\pi}(s)=E_{\\pi}[G_t|S_t=s]\\approx\n",
    "\\frac1N \\sum_{i=1}^{N}G_t^(i)\n",
    "$$"
   ],
   "metadata": {
    "collapsed": false
   }
  },
  {
   "cell_type": "code",
   "execution_count": 2,
   "metadata": {},
   "outputs": [
    {
     "name": "stdout",
     "output_type": "stream",
     "text": [
      "第一条序列\n",
      " [('s4', '概率前往', 1, 's3'), ('s3', '前往s4', -2, 's4'), ('s4', '前往s5', 10, 's5')]\n",
      "第二条序列\n",
      " [('s2', '前往s3', -2, 's3'), ('s3', '前往s5', 0, 's5')]\n",
      "第五条序列\n",
      " [('s3', '前往s4', -2, 's4'), ('s4', '前往s5', 10, 's5')]\n"
     ]
    }
   ],
   "source": [
    "import numpy as np\n",
    "\n",
    "S = [\"s1\", \"s2\", \"s3\", \"s4\", \"s5\"]  # 状态集合\n",
    "A = [\"保持s1\", \"前往s1\", \"前往s2\", \"前往s3\", \"前往s4\", \"前往s5\", \"概率前往\"]  # 动作集合\n",
    "# 状态转移函数\n",
    "P = {\n",
    "    \"s1-保持s1-s1\": 1.0,\n",
    "    \"s1-前往s2-s2\": 1.0,\n",
    "    \"s2-前往s1-s1\": 1.0,\n",
    "    \"s2-前往s3-s3\": 1.0,\n",
    "    \"s3-前往s4-s4\": 1.0,\n",
    "    \"s3-前往s5-s5\": 1.0,\n",
    "    \"s4-前往s5-s5\": 1.0,\n",
    "    \"s4-概率前往-s2\": 0.2,\n",
    "    \"s4-概率前往-s3\": 0.4,\n",
    "    \"s4-概率前往-s4\": 0.4,\n",
    "}\n",
    "# 奖励函数\n",
    "R = {\n",
    "    \"s1-保持s1\": -1,\n",
    "    \"s1-前往s2\": 0,\n",
    "    \"s2-前往s1\": -1,\n",
    "    \"s2-前往s3\": -2,\n",
    "    \"s3-前往s4\": -2,\n",
    "    \"s3-前往s5\": 0,\n",
    "    \"s4-前往s5\": 10,\n",
    "    \"s4-概率前往\": 1,\n",
    "}\n",
    "gamma = 0.5  # 折扣因子\n",
    "MDP = (S, A, P, R, gamma)\n",
    "\n",
    "# 策略1,随机策略\n",
    "Pi_1 = {\n",
    "    \"s1-保持s1\": 0.5,\n",
    "    \"s1-前往s2\": 0.5,\n",
    "    \"s2-前往s1\": 0.5,\n",
    "    \"s2-前往s3\": 0.5,\n",
    "    \"s3-前往s4\": 0.5,\n",
    "    \"s3-前往s5\": 0.5,\n",
    "    \"s4-前往s5\": 0.5,\n",
    "    \"s4-概率前往\": 0.5,\n",
    "}\n",
    "# 策略2\n",
    "Pi_2 = {\n",
    "    \"s1-保持s1\": 0.6,\n",
    "    \"s1-前往s2\": 0.4,\n",
    "    \"s2-前往s1\": 0.3,\n",
    "    \"s2-前往s3\": 0.7,\n",
    "    \"s3-前往s4\": 0.5,\n",
    "    \"s3-前往s5\": 0.5,\n",
    "    \"s4-前往s5\": 0.1,\n",
    "    \"s4-概率前往\": 0.9,\n",
    "}\n",
    "\n",
    "\n",
    "# 把输入的两个字符串通过“-”连接,便于使用上述定义的P、R变量\n",
    "def join(str1, str2):\n",
    "    return str1 + '-' + str2\n",
    "\n",
    "\n",
    "def sample(MDP, Pi, timestep_max, number):\n",
    "    ''' 采样函数,策略Pi,限制最长时间步timestep_max,总共采样序列数number '''\n",
    "    S, A, P, R, gamma = MDP\n",
    "    episodes = []\n",
    "    for _ in range(number):\n",
    "        episode = []\n",
    "        timestep = 0\n",
    "        s = S[np.random.randint(4)]  # 随机选择一个除s5以外的状态s作为起点\n",
    "        # 当前状态为终止状态或者时间步太长时,一次采样结束\n",
    "        while s != \"s5\" and timestep <= timestep_max:\n",
    "            timestep += 1\n",
    "            rand, temp = np.random.rand(), 0\n",
    "            # 在状态s下根据策略选择动作\n",
    "            for a_opt in A:\n",
    "                temp += Pi.get(join(s, a_opt), 0)\n",
    "                if temp > rand:\n",
    "                    a = a_opt\n",
    "                    r = R.get(join(s, a), 0)\n",
    "                    break\n",
    "            rand, temp = np.random.rand(), 0\n",
    "            # 根据状态转移概率得到下一个状态s_next\n",
    "            for s_opt in S:\n",
    "                temp += P.get(join(join(s, a), s_opt), 0)\n",
    "                if temp > rand:\n",
    "                    s_next = s_opt\n",
    "                    break\n",
    "            episode.append((s, a, r, s_next))  # 把（s,a,r,s_next）元组放入序列中\n",
    "            s = s_next  # s_next变成当前状态,开始接下来的循环\n",
    "        episodes.append(episode)\n",
    "    return episodes\n",
    "\n",
    "\n",
    "# 采样5次,每个序列最长不超过20步\n",
    "episodes = sample(MDP, Pi_1, 20, 5)\n",
    "print('第一条序列\\n', episodes[0])\n",
    "print('第二条序列\\n', episodes[1])\n",
    "print('第五条序列\\n', episodes[4])"
   ]
  },
  {
   "cell_type": "code",
   "execution_count": 3,
   "metadata": {},
   "outputs": [
    {
     "name": "stdout",
     "output_type": "stream",
     "text": [
      "0.12214963021480713 0.24094170911487217\n"
     ]
    }
   ],
   "source": [
    "def occupancy(episodes, s, a, timestep_max, gamma):\n",
    "    ''' 计算状态动作对（s,a）出现的频率,以此来估算策略的占用度量 '''\n",
    "    rho = 0\n",
    "    total_times = np.zeros(timestep_max)  # 记录每个时间步t各被经历过几次\n",
    "    occur_times = np.zeros(timestep_max)  # 记录(s_t,a_t)=(s,a)的次数\n",
    "    for episode in episodes:\n",
    "        for i in range(len(episode)):\n",
    "            (s_opt, a_opt, r, s_next) = episode[i]\n",
    "            total_times[i] += 1\n",
    "            if s == s_opt and a == a_opt:\n",
    "                occur_times[i] += 1\n",
    "    for i in reversed(range(timestep_max)):\n",
    "        if total_times[i]:\n",
    "            rho += gamma**i * occur_times[i] / total_times[i]\n",
    "    return (1 - gamma) * rho\n",
    "\n",
    "\n",
    "gamma = 0.5\n",
    "timestep_max = 1000\n",
    "\n",
    "episodes_1 = sample(MDP, Pi_1, timestep_max, 1000)\n",
    "episodes_2 = sample(MDP, Pi_2, timestep_max, 1000)\n",
    "rho_1 = occupancy(episodes_1, \"s4\", \"概率前往\", timestep_max, gamma)\n",
    "rho_2 = occupancy(episodes_2, \"s4\", \"概率前往\", timestep_max, gamma)\n",
    "print(rho_1, rho_2)"
   ]
  }
 ],
 "metadata": {
  "kernelspec": {
   "display_name": "Python 3.8.10 64-bit",
   "language": "python",
   "name": "python3"
  },
  "language_info": {
   "codemirror_mode": {
    "name": "ipython",
    "version": 3
   },
   "file_extension": ".py",
   "mimetype": "text/x-python",
   "name": "python",
   "nbconvert_exporter": "python",
   "pygments_lexer": "ipython3",
   "version": "3.8.10"
  },
  "orig_nbformat": 4,
  "vscode": {
   "interpreter": {
    "hash": "916dbcbb3f70747c44a77c7bcd40155683ae19c65e1c03b4aa3499c5328201f1"
   }
  }
 },
 "nbformat": 4,
 "nbformat_minor": 2
}
